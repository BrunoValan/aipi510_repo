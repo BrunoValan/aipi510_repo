{
 "cells": [
  {
   "cell_type": "markdown",
   "id": "89cf81c5",
   "metadata": {},
   "source": [
    "<a href='https://ai.meng.duke.edu'> = <img align=\"left\" style=\"padding-top:10px;\" src=https://storage.googleapis.com/aipi_datasets/Duke-AIPI-Logo.png>"
   ]
  },
  {
   "cell_type": "markdown",
   "id": "06d941a3",
   "metadata": {},
   "source": [
    "# Working with APIs: Yelp\n",
    "In this example we will demonstrate how to work with APIs using the Yelp Fusion API as an example.  The documentation for the Yelp Fusion API can be accessed [here](https://www.yelp.com/developers/documentation/v3/business_search).  To run this code you will need to register to get an API key for the Fusion API."
   ]
  },
  {
   "cell_type": "code",
   "execution_count": 1,
   "id": "a0ef0700",
   "metadata": {},
   "outputs": [],
   "source": [
    "import requests\n",
    "import json\n",
    "import os\n",
    "\n",
    "import pandas as pd\n",
    "import numpy as np"
   ]
  },
  {
   "cell_type": "markdown",
   "id": "9461b6f1",
   "metadata": {},
   "source": [
    "Let's create a class `yelpSearch` for our Yelp search.  In addition to the `__init__` method we will create three other methods for our class:  \n",
    "- `fetchData()`: gets the yelp search data for the specified location and type of business  \n",
    "- `processData()`: cleans up the search results data into a dataframe  \n",
    "- `getReviews()`: gets the yelp reviews for a specific business"
   ]
  },
  {
   "cell_type": "code",
   "execution_count": 1,
   "id": "d7391760",
   "metadata": {},
   "outputs": [],
   "source": [
    "class yelpSearch:\n",
    "    def __init__(self,key,term,location,url=\"https://api.yelp.com/v3/businesses/\"):\n",
    "        self.key = key\n",
    "        self.term = term\n",
    "        self.location = location\n",
    "        self.url = url\n",
    "\n",
    "    def fetchData(self,limit=10):\n",
    "        '''\n",
    "        Gets data from Yelp for businesses that match a given search term and location\n",
    "\n",
    "        Inputs:\n",
    "            limit(int): maximum number of businesses to return\n",
    "        Returns:\n",
    "            df(DataFrame): a dataframe containing information on businesses that match the search query\n",
    "        '''\n",
    "\n",
    "        # Specify headers, url and params\n",
    "        search_url = self.url + 'search'\n",
    "        headers = {'Authorization': f'Bearer {self.key}'}\n",
    "        payload = {\n",
    "            'term': self.term.replace(' ', '+'),\n",
    "            'location': self.location.replace(' ', '+'),\n",
    "            'limit': limit\n",
    "        }\n",
    "        \n",
    "        rows = [] # Hold data for each business\n",
    "        ids = [] # Hold ids of businesses already added\n",
    "        \n",
    "        try:\n",
    "            # Get response\n",
    "            response = requests.get(search_url, headers=headers, params=payload)\n",
    "            # Decode\n",
    "            response = response.json()\n",
    "            # Add results to lists\n",
    "            if response['businesses']:\n",
    "                data = response['businesses']\n",
    "                for d in data:\n",
    "                    if d['id'] not in ids:\n",
    "                        rows.append(d)\n",
    "                        ids.append(d['id'])\n",
    "        except Exception as e:\n",
    "            print('Error occurred')\n",
    "            print(e)\n",
    "\n",
    "        df = pd.DataFrame(rows)\n",
    "        self.data = df\n",
    "        return self.data\n",
    "\n",
    "    def processData(self):\n",
    "        '''\n",
    "        Cleans up the data extracted from Yelp\n",
    "\n",
    "        Inputs:\n",
    "            df(DataFrame): dataframe of results from Yelp\n",
    "        Returns:\n",
    "            df_clean(DataFrame): processed dataframe containing cleaned results\n",
    "        '''\n",
    "        \n",
    "        # Clean up columns\n",
    "        self.data['category'] = self.data['categories'].apply(lambda x: x[0]['title'])\n",
    "        self.data['address'] = self.data['location'].apply(lambda x: x['address1'])\n",
    "        self.data['distance'] = self.data['distance']/1609\n",
    "        \n",
    "        # Filter to only needed columns\n",
    "        self.data = self.data.loc[:,['id','name','review_count','category','rating','address','distance','price']]\n",
    "        \n",
    "        return self.data\n",
    "\n",
    "    def getReviews(self,id):\n",
    "        '''\n",
    "        Fetches reviews for a given business from Yelp API\n",
    "\n",
    "        Inputs:\n",
    "            id(str): yelp id of business to fetch review for\n",
    "        Returns:\n",
    "            df(DataFrame): dataframe containing the ratings, review and timestamps\n",
    "        '''\n",
    "\n",
    "        # Specify headers and url\n",
    "        headers = {'Authorization': f'Bearer {self.key}'}\n",
    "        reviews_url = self.url + id + \"/reviews\"\n",
    "        \n",
    "        try:\n",
    "            # Get response to search\n",
    "            response = requests.get(reviews_url, headers=headers)\n",
    "            # Decode\n",
    "            response = response.json()\n",
    "            \n",
    "            reviews = []\n",
    "            for review in response['reviews']:\n",
    "                reviews.append(review)\n",
    "            \n",
    "        except Exception as e:\n",
    "            print('Error occurred')\n",
    "            print(e)\n",
    "\n",
    "        reviewsdf = pd.DataFrame(reviews)\n",
    "        reviewsdf['date'] = reviewsdf['time_created'].apply(lambda x: x.split(' ')[0])\n",
    "        \n",
    "        reviewsdf = reviewsdf.loc[:,['rating','text','date']]\n",
    "        \n",
    "        return reviewsdf"
   ]
  },
  {
   "cell_type": "markdown",
   "id": "0f1b5392",
   "metadata": {},
   "source": [
    "Now that we've got everything set up, let's try it out. We will instantiate our class by searching for indian food in Morrisville, NC.  We'll then get the search results from Yelp and organize them into a dataframe."
   ]
  },
  {
   "cell_type": "code",
   "execution_count": 1,
   "id": "4267b4cb",
   "metadata": {},
   "outputs": [],
   "source": [
    "term = 'indian food'\n",
    "location = 'Morrisville NC'\n",
    "\n",
    "# Load API key (read this in from a config.py file or type it in)\n",
    "if os.path.exists('config.py'):\n",
    "    import config\n",
    "    key = config.api_key\n",
    "else:\n",
    "    key = input('Please enter your API key:')\n",
    "\n",
    "# Instantiate class\n",
    "search = yelpSearch(key,term,location)\n",
    "# Get the search results\n",
    "data = search.fetchData(limit=10)\n",
    "# Clean up\n",
    "df = search.processData()\n",
    "df"
   ]
  },
  {
   "cell_type": "code",
   "execution_count": 5,
   "id": "001ba418",
   "metadata": {},
   "outputs": [
    {
     "data": {
      "text/html": [
       "<div>\n",
       "<style scoped>\n",
       "    .dataframe tbody tr th:only-of-type {\n",
       "        vertical-align: middle;\n",
       "    }\n",
       "\n",
       "    .dataframe tbody tr th {\n",
       "        vertical-align: top;\n",
       "    }\n",
       "\n",
       "    .dataframe thead th {\n",
       "        text-align: right;\n",
       "    }\n",
       "</style>\n",
       "<table border=\"1\" class=\"dataframe\">\n",
       "  <thead>\n",
       "    <tr style=\"text-align: right;\">\n",
       "      <th></th>\n",
       "      <th>rating</th>\n",
       "      <th>text</th>\n",
       "      <th>date</th>\n",
       "    </tr>\n",
       "  </thead>\n",
       "  <tbody>\n",
       "    <tr>\n",
       "      <th>0</th>\n",
       "      <td>5</td>\n",
       "      <td>This place is great and a must visit for all B...</td>\n",
       "      <td>2022-08-19</td>\n",
       "    </tr>\n",
       "    <tr>\n",
       "      <th>1</th>\n",
       "      <td>5</td>\n",
       "      <td>This is my 1st five rating for a good reason: ...</td>\n",
       "      <td>2022-07-16</td>\n",
       "    </tr>\n",
       "    <tr>\n",
       "      <th>2</th>\n",
       "      <td>3</td>\n",
       "      <td>Luke warm madras coffee; 20 min to get seated;...</td>\n",
       "      <td>2022-05-08</td>\n",
       "    </tr>\n",
       "  </tbody>\n",
       "</table>\n",
       "</div>"
      ],
      "text/plain": [
       "   rating                                               text        date\n",
       "0       5  This place is great and a must visit for all B...  2022-08-19\n",
       "1       5  This is my 1st five rating for a good reason: ...  2022-07-16\n",
       "2       3  Luke warm madras coffee; 20 min to get seated;...  2022-05-08"
      ]
     },
     "execution_count": 5,
     "metadata": {},
     "output_type": "execute_result"
    }
   ],
   "source": [
    "# Get review for a specific restaurant\n",
    "id='yrfk9eKjtvlkzKyO1HPtCQ'\n",
    "reviews = search.getReviews(id)\n",
    "reviews"
   ]
  }
 ],
 "metadata": {
  "kernelspec": {
   "display_name": "Python 3.9.12 ('base')",
   "language": "python",
   "name": "python3"
  },
  "language_info": {
   "codemirror_mode": {
    "name": "ipython",
    "version": 3
   },
   "file_extension": ".py",
   "mimetype": "text/x-python",
   "name": "python",
   "nbconvert_exporter": "python",
   "pygments_lexer": "ipython3",
   "version": "3.9.12"
  },
  "vscode": {
   "interpreter": {
    "hash": "cf6d1caee5e13aa4bdb1500d81dd78efea177e564365101185610b77a45ad0b2"
   }
  }
 },
 "nbformat": 4,
 "nbformat_minor": 5
}
