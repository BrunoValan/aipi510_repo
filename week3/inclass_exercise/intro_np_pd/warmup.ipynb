{
 "cells": [
  {
   "cell_type": "markdown",
   "metadata": {
    "nbgrader": {
     "grade": false,
     "grade_id": "cell-9f16b05385ed5d48",
     "locked": true,
     "schema_version": 3,
     "solution": false,
     "task": false
    }
   },
   "source": [
    "<a href='https://ai.meng.duke.edu'> = <img align=\"left\" style=\"padding-top:10px;\" src=https://storage.googleapis.com/aipi_datasets/Duke-AIPI-Logo.png>"
   ]
  },
  {
   "cell_type": "markdown",
   "metadata": {
    "nbgrader": {
     "grade": false,
     "grade_id": "cell-1179e47adce63631",
     "locked": true,
     "schema_version": 3,
     "solution": false,
     "task": false
    }
   },
   "source": [
    "# In-class Warmup Exercise\n",
    "### Question 1\n",
    "Let's start with a warmup exercise using just Python.  We are going to perform some basic analysis of the stock price for a fictional company NewCo.  Let's suppose we receive some data on the last 10 days of NewCo's stock price.  The data is in the form of a dictionary 'newco_dict' where the keys are ['DATE','LOW','HIGH','CLOSE'].  'DATE' contains a list of string dates. 'LOW' and 'HIGH' each contain a list of the lowest price and highest price respectively of the stock during each day in the 10-day period. 'CLOSE' contains a list of the closing price of the stock at the end of each day during the 10-day period.\n",
    "\n",
    "For example, newco_dict might look like the following:  \n",
    "\n",
    "```\n",
    "newco_dict = {'DATE':['06-14-21','06-15-21','06-16-21','06-17-21','06-18-21',\n",
    "                      '06-21-21','06-22-21','06-23-21','06-24-21','06-25-21'],\n",
    "              'LOW':[80,72,70,74,82,88,94,88,73,67],\n",
    "              'HIGH':[95,81,76,88,90,96,102,94,90,72],\n",
    "              'CLOSE':[90,75,75,86,90,93,100,91,75,68]}\n",
    "```\n",
    "\n",
    "Our goal in this assignment will be to find all the dates during the 10-day period when the closing price of the stock was equal to the mode (most frequent) value of the closing prices over the 10-day period.  We are going to tackle this in two parts.  First we will create a function to find the mode of the closing prices.  In part 2 we will then create a function to identify the dates on which the closing price was equal to the mode.\n",
    "\n",
    "\n",
    "NOTE: For all parts of Question 1, you may not import any additional libraries - I would like you to solve these using only the Python you have learned so far and no helper libraries unless already imported for you. \n",
    "\n",
    "#### Question 1.1\n",
    "Let's first define a function `most_freq_closing(price_dict)` which takes as input a dictionary of prices in the form of 'newco_dict' and returns the most frequent closing price (the mode of the closing prices) during the period as an integer.  You may assume that the dictionary is non-empty and that there is a single mode price (in real life, some datasets may have no mode, if all elements are represented equally as often, or may have more than one mode).\n",
    "\n",
    "There are many ways to approach this problem.  One method (although there are others) might be to iterate through the set of the unique closing values and count how often each one appears during the 10 days.  The mode is the one that appears most frequently (has the highest count of appearances).  \n",
    "\n",
    "How you structure your solution is up to you, although you must complete the `most_freq_closing` function below.  You may include all your solution code within that function or break sub-tasks out into separate smaller functions (which you can insert into the same cell or add a new cell)."
   ]
  },
  {
   "cell_type": "code",
   "execution_count": 2,
   "metadata": {
    "nbgrader": {
     "grade": false,
     "grade_id": "cell-c61d21d175f8cc1a",
     "locked": false,
     "schema_version": 3,
     "solution": true,
     "task": false
    }
   },
   "outputs": [
    {
     "ename": "SyntaxError",
     "evalue": "invalid syntax (815439172.py, line 15)",
     "output_type": "error",
     "traceback": [
      "\u001b[0;36m  Input \u001b[0;32mIn [2]\u001b[0;36m\u001b[0m\n\u001b[0;31m    if price in price_dict['CLOSE']\u001b[0m\n\u001b[0m                                   ^\u001b[0m\n\u001b[0;31mSyntaxError\u001b[0m\u001b[0;31m:\u001b[0m invalid syntax\n"
     ]
    }
   ],
   "source": [
    "def most_freq_closing(price_dict):\n",
    "    '''\n",
    "    Finds the most frequent closing price of a stock\n",
    "\n",
    "    Inputs:\n",
    "        price_dict(dict): Dictionary containing DATE, LOW, HIGH, CLOSE prices for an arbitrary number of days\n",
    "\n",
    "    Returns:\n",
    "        mode_val(int): Most frequent closing price\n",
    "    '''\n",
    "    ### BEGIN SOLUTION ###   #1)create new object --> close price 2) go through list and count the most unique way \n",
    "    \n",
    "    close_price = price_dict['Close']\n",
    "    for price in close_price\n",
    "    if price \n",
    "     \n",
    "\n",
    "\n",
    "        \n",
    "   \n",
    "    ## END SOLUTION ### "
   ]
  },
  {
   "cell_type": "code",
   "execution_count": null,
   "metadata": {
    "nbgrader": {
     "grade": true,
     "grade_id": "cell-1e5d837902352889",
     "locked": true,
     "points": 1,
     "schema_version": 3,
     "solution": false,
     "task": false
    }
   },
   "outputs": [],
   "source": [
    "# `most_freq_closing()`: test cell\n",
    "newco_dict = {'DATE':['06-14-21','06-15-21','06-16-21','06-17-21','06-18-21',\n",
    "                      '06-21-21','06-22-21','06-23-21','06-24-21','06-25-21'],\n",
    "              'LOW':[80,72,70,74,82,88,94,88,73,67],\n",
    "              'HIGH':[95,81,76,88,90,96,102,94,90,72],\n",
    "              'CLOSE':[90,75,75,86,90,93,100,91,75,68]}\n",
    "mode_price = most_freq_closing(newco_dict)\n",
    "print(f'Your function calculated the most frequent price as {mode_price}')\n",
    "assert type(mode_price) == int, 'Your function did not return an integer'\n",
    "assert mode_price == 75,'Incorrect, check your function and try again'\n",
    "\n",
    "newco_dict2 = {'DATE':['06-14-21','06-15-21','06-16-21','06-17-21','06-18-21',\n",
    "                      '06-21-21','06-22-21','06-23-21','06-24-21','06-25-21'],\n",
    "              'LOW':[80,72,70,74,82,88,94,88,73,67],\n",
    "              'HIGH':[95,81,76,88,90,96,102,94,90,72],\n",
    "              'CLOSE':[90,74,90,86,90,93,100,91,75,68]}\n",
    "mode_price = most_freq_closing(newco_dict2)\n",
    "assert type(mode_price) == int, 'Your function did not return an integer'\n",
    "assert mode_price == 90,'Incorrect, check your function and try again'\n",
    "print('\\n(Passed tests!)')"
   ]
  },
  {
   "cell_type": "markdown",
   "metadata": {
    "nbgrader": {
     "grade": false,
     "grade_id": "cell-8bbcac4f70cce636",
     "locked": true,
     "schema_version": 3,
     "solution": false,
     "task": false
    }
   },
   "source": [
    "#### Question 1.2\n",
    "Let's now make use of our new function `most_freq_closing` to find all dates on which the most frequent closing price occurred.  Write a new function `dates_most_freq_closing(price_dict)` which finds and returns the dates on which the most frequent (mode) closing price occurs.  The input to the function is a dictionary of the form of `newco_dict` and the output is a **list** of dates.  Your function should make use of the function `most_freq_closing()` that you just wrote to find the mode closing price, and then you should find all dates on which it occurs."
   ]
  },
  {
   "cell_type": "code",
   "execution_count": null,
   "metadata": {
    "nbgrader": {
     "grade": false,
     "grade_id": "cell-2f9bc10ff3889fa4",
     "locked": false,
     "schema_version": 3,
     "solution": true,
     "task": false
    }
   },
   "outputs": [],
   "source": [
    "def dates_most_freq_closing(price_dict):\n",
    "    '''\n",
    "    Finds the dates on which the closing price is the mode of the time period of the data proved as an input\n",
    "\n",
    "    Inputs:\n",
    "        price_dict(dict): Dictionary containing DATE, LOW, HIGH, CLOSE prices for an arbitrary number of days\n",
    "\n",
    "    Returns:\n",
    "        dates(list): List of dates on which the close price is the mode\n",
    "    '''\n",
    "    ### BEGIN SOLUTION ### \n",
    "    \n",
    "    ### END SOLUTION ###"
   ]
  },
  {
   "cell_type": "code",
   "execution_count": null,
   "metadata": {
    "nbgrader": {
     "grade": true,
     "grade_id": "cell-2dddb819d9fe493a",
     "locked": true,
     "points": 1,
     "schema_version": 3,
     "solution": false,
     "task": false
    }
   },
   "outputs": [],
   "source": [
    "# `dates_most_freq_closing()`: test cell\n",
    "newco_dict = {'DATE':['06-14-21','06-15-21','06-16-21','06-17-21','06-18-21',\n",
    "                      '06-21-21','06-22-21','06-23-21','06-24-21','06-25-21'],\n",
    "              'LOW':[80,72,70,74,82,88,94,88,73,67],\n",
    "              'HIGH':[95,81,76,88,90,96,102,94,90,72],\n",
    "              'CLOSE':[90,75,75,86,90,93,100,91,75,68]}\n",
    "\n",
    "# Check that dates_most_freq_closing uses most_freq_closing\n",
    "orig_most_freq_closing = most_freq_closing\n",
    "del most_freq_closing\n",
    "try:\n",
    "    dates_most_freq_closing(newco_dict)\n",
    "except NameError:\n",
    "    pass\n",
    "else:\n",
    "    raise AssertionError(\"dates_most_freq_closing does not use most_freq_closing\")\n",
    "finally:\n",
    "    most_freq_closing = orig_most_freq_closing\n",
    "    \n",
    "# Check output\n",
    "dates = dates_most_freq_closing(newco_dict)\n",
    "print(f'Your function returned the dates: {dates}')\n",
    "assert type(dates) == list, 'Your function did not return a list of dates'\n",
    "assert type(dates[0] == str), 'The values in your list are not strings'\n",
    "assert dates == ['06-15-21', '06-16-21', '06-24-21'], 'Incorrect, check your function and try again'\n",
    "print('\\n(Passed tests!)')"
   ]
  },
  {
   "cell_type": "markdown",
   "metadata": {},
   "source": [
    "### Question 2\n",
    "#### Question 2.1\n",
    "Let's first define a function `most_freq_closing(price_dict)` which takes as input a dictionary of prices in the form of 'newco_dict' and returns the most frequent closing price (the mode of the closing prices) during the period as an integer.  You may assume that the dictionary is non-empty and that there is a single mode price (in real life, some datasets may have no mode, if all elements are represented equally as often, or may have more than one mode).\n",
    "\n",
    "NOTE: for this problem you MUST use the NumPy library, which I have imported above (make sure you already have NumPy installed - if not first follow the instructions in the setup.md document in the Module 2 Introduction section of Sakai).  **You should not use any loops (including list comprehensions) in your solution.**\n",
    "\n",
    "One solution might be to count the occurrences of each unique closing value during the period, and the find the closing value with the highest count of occurences.  You can do these steps using NumPy without any loops.  There are multiple ways to solve this.  You may include all your code in the `most_freq_closing` function below or you may choose to add additional functions for each sub-task which are then called by `most_freq_closing`."
   ]
  },
  {
   "cell_type": "code",
   "execution_count": 11,
   "metadata": {
    "nbgrader": {
     "grade": false,
     "grade_id": "cell-bef5a9af5abd959c",
     "locked": false,
     "schema_version": 3,
     "solution": true,
     "task": false
    }
   },
   "outputs": [],
   "source": [
    "import numpy as np\n",
    "\n",
    "def most_freq_closing(price_dict):\n",
    "    '''\n",
    "    Finds the most frequent closing price of a stock\n",
    "\n",
    "    Inputs:\n",
    "        price_dict(dict): Dictionary containing DATE, LOW, HIGH, CLOSE prices for an arbitrary number of days\n",
    "\n",
    "    Returns:\n",
    "        mode_val(int): Most frequent closing price\n",
    "    '''\n",
    "    ### BEGIN SOLUTION ###\n",
    "    \n",
    "\n",
    "\n",
    "\n",
    "    ### END SOLUTION ###"
   ]
  },
  {
   "cell_type": "code",
   "execution_count": 12,
   "metadata": {
    "nbgrader": {
     "grade": true,
     "grade_id": "cell-4f25961edf86ff8d",
     "locked": true,
     "points": 1,
     "schema_version": 3,
     "solution": false,
     "task": false
    }
   },
   "outputs": [
    {
     "ename": "ValueError",
     "evalue": "object of too small depth for desired array",
     "output_type": "error",
     "traceback": [
      "\u001b[0;31m---------------------------------------------------------------------------\u001b[0m",
      "\u001b[0;31mValueError\u001b[0m                                Traceback (most recent call last)",
      "\u001b[1;32m/Users/brunovalan/Class/AIPI_510/aipi510_repo/week3/inclass_exercise/intro_np_pd/warmup.ipynb Cell 10\u001b[0m in \u001b[0;36m<cell line: 7>\u001b[0;34m()\u001b[0m\n\u001b[1;32m      <a href='vscode-notebook-cell:/Users/brunovalan/Class/AIPI_510/aipi510_repo/week3/inclass_exercise/intro_np_pd/warmup.ipynb#X12sZmlsZQ%3D%3D?line=0'>1</a>\u001b[0m \u001b[39m# `most_freq_closing()`: test cell\u001b[39;00m\n\u001b[1;32m      <a href='vscode-notebook-cell:/Users/brunovalan/Class/AIPI_510/aipi510_repo/week3/inclass_exercise/intro_np_pd/warmup.ipynb#X12sZmlsZQ%3D%3D?line=1'>2</a>\u001b[0m newco_dict \u001b[39m=\u001b[39m {\u001b[39m'\u001b[39m\u001b[39mDATE\u001b[39m\u001b[39m'\u001b[39m:[\u001b[39m'\u001b[39m\u001b[39m06-14-21\u001b[39m\u001b[39m'\u001b[39m,\u001b[39m'\u001b[39m\u001b[39m06-15-21\u001b[39m\u001b[39m'\u001b[39m,\u001b[39m'\u001b[39m\u001b[39m06-16-21\u001b[39m\u001b[39m'\u001b[39m,\u001b[39m'\u001b[39m\u001b[39m06-17-21\u001b[39m\u001b[39m'\u001b[39m,\u001b[39m'\u001b[39m\u001b[39m06-18-21\u001b[39m\u001b[39m'\u001b[39m,\n\u001b[1;32m      <a href='vscode-notebook-cell:/Users/brunovalan/Class/AIPI_510/aipi510_repo/week3/inclass_exercise/intro_np_pd/warmup.ipynb#X12sZmlsZQ%3D%3D?line=2'>3</a>\u001b[0m                       \u001b[39m'\u001b[39m\u001b[39m06-21-21\u001b[39m\u001b[39m'\u001b[39m,\u001b[39m'\u001b[39m\u001b[39m06-22-21\u001b[39m\u001b[39m'\u001b[39m,\u001b[39m'\u001b[39m\u001b[39m06-23-21\u001b[39m\u001b[39m'\u001b[39m,\u001b[39m'\u001b[39m\u001b[39m06-24-21\u001b[39m\u001b[39m'\u001b[39m,\u001b[39m'\u001b[39m\u001b[39m06-25-21\u001b[39m\u001b[39m'\u001b[39m],\n\u001b[1;32m      <a href='vscode-notebook-cell:/Users/brunovalan/Class/AIPI_510/aipi510_repo/week3/inclass_exercise/intro_np_pd/warmup.ipynb#X12sZmlsZQ%3D%3D?line=3'>4</a>\u001b[0m               \u001b[39m'\u001b[39m\u001b[39mLOW\u001b[39m\u001b[39m'\u001b[39m:[\u001b[39m80\u001b[39m,\u001b[39m72\u001b[39m,\u001b[39m70\u001b[39m,\u001b[39m74\u001b[39m,\u001b[39m82\u001b[39m,\u001b[39m88\u001b[39m,\u001b[39m94\u001b[39m,\u001b[39m88\u001b[39m,\u001b[39m73\u001b[39m,\u001b[39m67\u001b[39m],\n\u001b[1;32m      <a href='vscode-notebook-cell:/Users/brunovalan/Class/AIPI_510/aipi510_repo/week3/inclass_exercise/intro_np_pd/warmup.ipynb#X12sZmlsZQ%3D%3D?line=4'>5</a>\u001b[0m               \u001b[39m'\u001b[39m\u001b[39mHIGH\u001b[39m\u001b[39m'\u001b[39m:[\u001b[39m95\u001b[39m,\u001b[39m81\u001b[39m,\u001b[39m76\u001b[39m,\u001b[39m88\u001b[39m,\u001b[39m90\u001b[39m,\u001b[39m96\u001b[39m,\u001b[39m102\u001b[39m,\u001b[39m94\u001b[39m,\u001b[39m90\u001b[39m,\u001b[39m72\u001b[39m],\n\u001b[1;32m      <a href='vscode-notebook-cell:/Users/brunovalan/Class/AIPI_510/aipi510_repo/week3/inclass_exercise/intro_np_pd/warmup.ipynb#X12sZmlsZQ%3D%3D?line=5'>6</a>\u001b[0m               \u001b[39m'\u001b[39m\u001b[39mCLOSE\u001b[39m\u001b[39m'\u001b[39m:[\u001b[39m90\u001b[39m,\u001b[39m75\u001b[39m,\u001b[39m75\u001b[39m,\u001b[39m86\u001b[39m,\u001b[39m90\u001b[39m,\u001b[39m93\u001b[39m,\u001b[39m100\u001b[39m,\u001b[39m91\u001b[39m,\u001b[39m75\u001b[39m,\u001b[39m68\u001b[39m]}\n\u001b[0;32m----> <a href='vscode-notebook-cell:/Users/brunovalan/Class/AIPI_510/aipi510_repo/week3/inclass_exercise/intro_np_pd/warmup.ipynb#X12sZmlsZQ%3D%3D?line=6'>7</a>\u001b[0m mode_price \u001b[39m=\u001b[39m most_freq_closing(newco_dict)\n\u001b[1;32m      <a href='vscode-notebook-cell:/Users/brunovalan/Class/AIPI_510/aipi510_repo/week3/inclass_exercise/intro_np_pd/warmup.ipynb#X12sZmlsZQ%3D%3D?line=7'>8</a>\u001b[0m \u001b[39mprint\u001b[39m(\u001b[39mf\u001b[39m\u001b[39m'\u001b[39m\u001b[39mYour function calculated the most frequent price as \u001b[39m\u001b[39m{\u001b[39;00mmode_price\u001b[39m}\u001b[39;00m\u001b[39m'\u001b[39m)\n\u001b[1;32m      <a href='vscode-notebook-cell:/Users/brunovalan/Class/AIPI_510/aipi510_repo/week3/inclass_exercise/intro_np_pd/warmup.ipynb#X12sZmlsZQ%3D%3D?line=8'>9</a>\u001b[0m \u001b[39massert\u001b[39;00m \u001b[39mtype\u001b[39m(mode_price) \u001b[39m==\u001b[39m \u001b[39mint\u001b[39m, \u001b[39m'\u001b[39m\u001b[39mYour function did not return an integer\u001b[39m\u001b[39m'\u001b[39m\n",
      "\u001b[1;32m/Users/brunovalan/Class/AIPI_510/aipi510_repo/week3/inclass_exercise/intro_np_pd/warmup.ipynb Cell 10\u001b[0m in \u001b[0;36mmost_freq_closing\u001b[0;34m(price_dict)\u001b[0m\n\u001b[1;32m     <a href='vscode-notebook-cell:/Users/brunovalan/Class/AIPI_510/aipi510_repo/week3/inclass_exercise/intro_np_pd/warmup.ipynb#X12sZmlsZQ%3D%3D?line=13'>14</a>\u001b[0m close_price \u001b[39m=\u001b[39m price_dict[\u001b[39m'\u001b[39m\u001b[39mCLOSE\u001b[39m\u001b[39m'\u001b[39m]\n\u001b[1;32m     <a href='vscode-notebook-cell:/Users/brunovalan/Class/AIPI_510/aipi510_repo/week3/inclass_exercise/intro_np_pd/warmup.ipynb#X12sZmlsZQ%3D%3D?line=14'>15</a>\u001b[0m array_close_price \u001b[39m=\u001b[39m np\u001b[39m.\u001b[39marray(close_price)\n\u001b[0;32m---> <a href='vscode-notebook-cell:/Users/brunovalan/Class/AIPI_510/aipi510_repo/week3/inclass_exercise/intro_np_pd/warmup.ipynb#X12sZmlsZQ%3D%3D?line=15'>16</a>\u001b[0m mode_val \u001b[39m=\u001b[39m np\u001b[39m.\u001b[39;49mbincount(array_close_price\u001b[39m.\u001b[39;49margmax())\n\u001b[1;32m     <a href='vscode-notebook-cell:/Users/brunovalan/Class/AIPI_510/aipi510_repo/week3/inclass_exercise/intro_np_pd/warmup.ipynb#X12sZmlsZQ%3D%3D?line=16'>17</a>\u001b[0m \u001b[39mreturn\u001b[39;00m mode_val\n",
      "File \u001b[0;32m<__array_function__ internals>:5\u001b[0m, in \u001b[0;36mbincount\u001b[0;34m(*args, **kwargs)\u001b[0m\n",
      "\u001b[0;31mValueError\u001b[0m: object of too small depth for desired array"
     ]
    }
   ],
   "source": [
    "# `most_freq_closing()`: test cell\n",
    "newco_dict = {'DATE':['06-14-21','06-15-21','06-16-21','06-17-21','06-18-21',\n",
    "                      '06-21-21','06-22-21','06-23-21','06-24-21','06-25-21'],\n",
    "              'LOW':[80,72,70,74,82,88,94,88,73,67],\n",
    "              'HIGH':[95,81,76,88,90,96,102,94,90,72],\n",
    "              'CLOSE':[90,75,75,86,90,93,100,91,75,68]}\n",
    "mode_price = most_freq_closing(newco_dict)\n",
    "print(f'Your function calculated the most frequent price as {mode_price}')\n",
    "assert type(mode_price) == int, 'Your function did not return an integer'\n",
    "assert mode_price == 75,'Incorrect, check your function and try again'\n",
    "\n",
    "newco_dict2 = {'DATE':['06-14-21','06-15-21','06-16-21','06-17-21','06-18-21',\n",
    "                      '06-21-21','06-22-21','06-23-21','06-24-21','06-25-21'],\n",
    "              'LOW':[80,72,70,74,82,88,94,88,73,67],\n",
    "              'HIGH':[95,81,76,88,90,96,102,94,90,72],\n",
    "              'CLOSE':[90,75,90,86,90,93,100,91,75,68]}\n",
    "mode_price = most_freq_closing(newco_dict2)\n",
    "print(f'Your function calculated the most frequent price as {mode_price}')\n",
    "assert type(mode_price) == int, 'Your function did not return an integer'\n",
    "assert mode_price == 90,'Incorrect, check your function and try again'\n",
    "print('\\n(Passed tests!)')"
   ]
  },
  {
   "cell_type": "markdown",
   "metadata": {
    "nbgrader": {
     "grade": false,
     "grade_id": "cell-2a4ee9331839c7de",
     "locked": true,
     "schema_version": 3,
     "solution": false,
     "task": false
    }
   },
   "source": [
    "#### Question 2.2\n",
    "Let's now make use of our new function `most_freq_closing` to find all dates on which the most frequent closing price occurred.  Write a new function `dates_most_freq_closing(price_dict)` which finds and returns the dates on which the most frequent (mode) closing price occurs.  The input to the function is a dictionary of the form of `newco_dict` and the output is a **list** of dates.  Your function should make use of the function `most_freq_closing()` that you just wrote to find the mode closing price, and then you should find all dates on which it occurs.\n",
    "\n",
    "NOTE: for this problem you MUST use the NumPy library, which I have imported above (make sure you already have NumPy installed - if not first follow the instructions in the setup.md document in the Module 2 Introduction section of Sakai).  You MAY NOT use any loops (including list comprehensions) in your solution.\n",
    "\n",
    "Hint (only read if you need it, otherwise skip!):  \n",
    "- You might find it helpful to filter an array of the closing prices to those which match the most frequent price, and then use the resulting Boolean mask (see example in demo notebook) to filter the dates"
   ]
  },
  {
   "cell_type": "code",
   "execution_count": null,
   "metadata": {},
   "outputs": [],
   "source": [
    "def dates_most_freq_closing(price_dict):\n",
    "    '''\n",
    "    Finds the dates on which the closing price is the mode of the time period of the data proved as an input\n",
    "\n",
    "    Inputs:\n",
    "        price_dict(dict): Dictionary containing DATE, LOW, HIGH, CLOSE prices for an arbitrary number of days\n",
    "\n",
    "    Returns:\n",
    "        dates(list): List of dates on which the close price is the mode\n",
    "    '''\n",
    "    ### BEGIN SOLUTION ###\n",
    "    \n",
    "    ### END SOLUTION ###"
   ]
  },
  {
   "cell_type": "code",
   "execution_count": null,
   "metadata": {},
   "outputs": [],
   "source": [
    "# `dates_most_freq_closing()`: test cell\n",
    "newco_dict = {'DATE':['06-14-21','06-15-21','06-16-21','06-17-21','06-18-21',\n",
    "                      '06-21-21','06-22-21','06-23-21','06-24-21','06-25-21'],\n",
    "              'LOW':[80,72,70,74,82,88,94,88,73,67],\n",
    "              'HIGH':[95,81,76,88,90,96,102,94,90,72],\n",
    "              'CLOSE':[90,75,75,86,90,93,100,91,75,68]}\n",
    "\n",
    "# Check that dates_most_freq_closing uses most_freq_closing\n",
    "orig_most_freq_closing = most_freq_closing\n",
    "del most_freq_closing\n",
    "try:\n",
    "    dates_most_freq_closing(newco_dict)\n",
    "except NameError:\n",
    "    pass\n",
    "else:\n",
    "    raise AssertionError(\"dates_most_freq_closing does not use most_freq_closing\")\n",
    "finally:\n",
    "    most_freq_closing = orig_most_freq_closing\n",
    "    \n",
    "# Check output\n",
    "dates = dates_most_freq_closing(newco_dict)\n",
    "print(f'Your function returned the dates: {dates}')\n",
    "assert type(dates) == list, 'Your function did not return a list of dates'\n",
    "assert type(dates[0] == str), 'The values in your list are not strings'\n",
    "assert dates == ['06-15-21', '06-16-21', '06-24-21'], 'Incorrect, check your function and try again'\n",
    "print('\\n(Passed tests!)')"
   ]
  }
 ],
 "metadata": {
  "celltoolbar": "Create Assignment",
  "kernelspec": {
   "display_name": "Python 3.9.12 ('base')",
   "language": "python",
   "name": "python3"
  },
  "language_info": {
   "codemirror_mode": {
    "name": "ipython",
    "version": 3
   },
   "file_extension": ".py",
   "mimetype": "text/x-python",
   "name": "python",
   "nbconvert_exporter": "python",
   "pygments_lexer": "ipython3",
   "version": "3.9.12"
  },
  "vscode": {
   "interpreter": {
    "hash": "cf6d1caee5e13aa4bdb1500d81dd78efea177e564365101185610b77a45ad0b2"
   }
  }
 },
 "nbformat": 4,
 "nbformat_minor": 4
}
