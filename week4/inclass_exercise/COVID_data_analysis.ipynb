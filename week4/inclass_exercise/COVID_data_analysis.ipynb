{
 "cells": [
  {
   "cell_type": "markdown",
   "metadata": {},
   "source": [
    "<a href='https://ai.meng.duke.edu'> = <img align=\"left\" style=\"padding-top:10px;\" src=https://storage.googleapis.com/aipi_datasets/Duke-AIPI-Logo.png>"
   ]
  },
  {
   "cell_type": "markdown",
   "metadata": {},
   "source": [
    "# COVID Data Analysis - Working with API Data"
   ]
  },
  {
   "cell_type": "markdown",
   "metadata": {},
   "source": [
    "Data from COVID Tracking Project (https://covidtracking.com/api)"
   ]
  },
  {
   "cell_type": "code",
   "execution_count": 2,
   "metadata": {},
   "outputs": [],
   "source": [
    "import requests\n",
    "import json\n",
    "import pandas as pd\n",
    "import numpy as np\n",
    "import matplotlib.pyplot as plt\n",
    "import matplotlib.dates as mdates"
   ]
  },
  {
   "cell_type": "markdown",
   "metadata": {},
   "source": [
    "## Part 1: Get the data\n",
    "Get data for the state of North Carolina from the [Covid Tracking Project API](https://covidtracking.com/data/api) and put it into a pandas dataframe called ***state_covid_data***. We will put our code in the function ***get_data()***\n",
    "\n",
    "You can check out the requests package documentation at https://requests.readthedocs.io/en/master/user/quickstart/\n",
    "\n",
    "NOTE: there is now a v2 of the Covid Tracking Project API.  We will be using v1 for this exercise, because it is simpler to work with.  The endpoint for the v1 API is: \"https://api.covidtracking.com/v1/states/{STATE_NAME}/daily.json\""
   ]
  },
  {
   "cell_type": "code",
   "execution_count": 17,
   "metadata": {},
   "outputs": [],
   "source": [
    "def get_data(state):\n",
    "    '''\n",
    "    Gets data from the Covid Tracking Project API for a given state\n",
    "\n",
    "    Inputs:\n",
    "        state(str): state abbreviation\n",
    "\n",
    "    Returns:\n",
    "        state_covid_data(DataFrame): dataframe containing covid data for each day of the tracking period from the API\n",
    "    '''\n",
    "\n",
    "    \n",
    "    ### BEGIN SOLUTION ###\n",
    "    endpoint = f\"https://api.covidtracking.com/v1/states/{state}/daily.json\"\n",
    "    response = requests.get(endpoint)\n",
    "    state_covid_data = response.json()\n",
    "    display(state)\n",
    "    state_covid_data = pd.DataFrame.from_dict(state_covid_data)\n",
    "    return state_covid_data\n",
    "    \n",
    "\n",
    "\n",
    "    ### END SOLUTION"
   ]
  },
  {
   "cell_type": "code",
   "execution_count": 18,
   "metadata": {},
   "outputs": [
    {
     "data": {
      "text/plain": [
       "<Response [200]>"
      ]
     },
     "metadata": {},
     "output_type": "display_data"
    },
    {
     "name": "stdout",
     "output_type": "stream",
     "text": [
      "Index(['state', 'positive', 'probableCases', 'negative', 'pending',\n",
      "       'totalTestResultsSource', 'totalTestResults', 'hospitalizedCurrently',\n",
      "       'hospitalizedCumulative', 'inIcuCurrently', 'inIcuCumulative',\n",
      "       'onVentilatorCurrently', 'onVentilatorCumulative', 'recovered',\n",
      "       'lastUpdateEt', 'dateModified', 'checkTimeEt', 'death', 'hospitalized',\n",
      "       'hospitalizedDischarged', 'dateChecked', 'totalTestsViral',\n",
      "       'positiveTestsViral', 'negativeTestsViral', 'positiveCasesViral',\n",
      "       'deathConfirmed', 'deathProbable', 'totalTestEncountersViral',\n",
      "       'totalTestsPeopleViral', 'totalTestsAntibody', 'positiveTestsAntibody',\n",
      "       'negativeTestsAntibody', 'totalTestsPeopleAntibody',\n",
      "       'positiveTestsPeopleAntibody', 'negativeTestsPeopleAntibody',\n",
      "       'totalTestsPeopleAntigen', 'positiveTestsPeopleAntigen',\n",
      "       'totalTestsAntigen', 'positiveTestsAntigen', 'fips', 'positiveIncrease',\n",
      "       'negativeIncrease', 'total', 'totalTestResultsIncrease', 'posNeg',\n",
      "       'dataQualityGrade', 'deathIncrease', 'hospitalizedIncrease', 'hash',\n",
      "       'commercialScore', 'negativeRegularScore', 'negativeScore',\n",
      "       'positiveScore', 'score', 'grade'],\n",
      "      dtype='object')\n"
     ]
    }
   ],
   "source": [
    "state = \"nc\"\n",
    "state_covid_data = get_data(state)\n",
    "state_covid_data.head()\n",
    "print(state_covid_data.columns)\n",
    "\n",
    "\n"
   ]
  },
  {
   "cell_type": "markdown",
   "metadata": {},
   "source": [
    "## Part 2: Clean up and plot the data\n",
    "Complete the below function `clean_data()` which leans up the dataframe as follows:  \n",
    "- Convert the 'date' column to pandas datetime\n",
    "- Set the dataframe index to the 'date'\n",
    "\n",
    "The function should then plot the daily number of new cases ('positiveIncrease') over time as a line chart.  It should return a dataframe of the cleaned up results."
   ]
  },
  {
   "cell_type": "code",
   "execution_count": 15,
   "metadata": {},
   "outputs": [],
   "source": [
    "def clean_data(df):\n",
    "    '''\n",
    "    Cleans the raw covid data from the api and plots line chart of new cases\n",
    "\n",
    "    Inputs:\n",
    "        df(DataFrame): dataframe of raw data from the api, one row per day\n",
    "\n",
    "    Returns:\n",
    "        df_clean(DataFrame): dataframe of covid data with index set to date\n",
    "    '''\n",
    "    ### BEGIN SOLUTION ###\n",
    "    df['date'] = df['date'].astype(str)\n",
    "    df['date'] = pd.to_datetime(df['date'], infer_datetime_format= True)\n",
    "    df.set_index(keys = 'date', inplace = True)\n",
    "\n",
    "    #plot the graphs \n",
    "    plt.figure(figsize = (6.5,4.5))\n",
    "    plt.plot(df['positiveIncrease'])\n",
    "    plt.title('New Cases')\n",
    "    plt.show\n",
    "    \n",
    "    return df\n",
    "\n",
    "   \n",
    "    ### END SOLUTION ###"
   ]
  },
  {
   "cell_type": "markdown",
   "metadata": {},
   "source": []
  },
  {
   "cell_type": "code",
   "execution_count": 16,
   "metadata": {},
   "outputs": [
    {
     "data": {
      "text/plain": [
       "(369, 55)"
      ]
     },
     "execution_count": 16,
     "metadata": {},
     "output_type": "execute_result"
    },
    {
     "data": {
      "image/png": "[encoded data removed]",
      "text/plain": [
       "<Figure size 468x324 with 1 Axes>"
      ]
     },
     "metadata": {
      "needs_background": "light"
     },
     "output_type": "display_data"
    }
   ],
   "source": [
    "# Run function to display chart\n",
    "df_clean = clean_data(state_covid_data)\n",
    "df_clean.shape"
   ]
  },
  {
   "cell_type": "markdown",
   "metadata": {},
   "source": [
    "## Part 3: Compare multiple states"
   ]
  },
  {
   "cell_type": "markdown",
   "metadata": {},
   "source": [
    "Complete the function below to use the API to get data for the states North Carolina (nc), New York (ny), and California (ca).  Your function should make use of your other function `get_data()`.  It should then plot the data for all three states on a set of 4 plots:  \n",
    "1) Cumulative postive cases over time  \n",
    "2) Cumulative deaths over time  \n",
    "3) Number of current hospitalized patients  \n",
    "4) Number of new cases. \n",
    "\n",
    "Your visualization should look something like the image below (charts do not have to be in grid layout).  Be sure to include a legend on your charts in order to identify which line corresponds to which state.\n",
    "\n",
    "<img align=\"left\" style=\"padding-top:10px;\" src=\"covid_data_plot.png\">"
   ]
  },
  {
   "cell_type": "code",
   "execution_count": 7,
   "metadata": {
    "lines_to_next_cell": 0
   },
   "outputs": [],
   "source": [
    "def generate_plots(states):\n",
    "    '''\n",
    "    Gets covid data from the API and generates plots of cases, deaths, hospitalizations and cumulative cases over time\n",
    "\n",
    "    Inputs:\n",
    "        states(list): list of state abbreviations to include\n",
    "\n",
    "    Returns:\n",
    "        data(dict): dictionary with the states as keys and the values being cleaned DataFrames containing the covid data for the corresponding state\n",
    "    '''\n",
    "    ### BEGIN SOLUTION ###\n",
    "    data = dict.fromkeys(states)\n",
    "    for state in states: \n",
    "        state_covid_data = get_data(state)\n",
    "        df_clean = clean_data(state_covid_data)\n",
    "        data[f\"{state}\"] = df_clean\n",
    "    \n",
    "        \n",
    "    return data\n",
    "\n",
    "        \n",
    "        \n",
    "    \n",
    "\n",
    "\n",
    "    \n",
    "    ### END SOLUTION ###"
   ]
  },
  {
   "cell_type": "code",
   "execution_count": 8,
   "metadata": {
    "lines_to_next_cell": 2
   },
   "outputs": [
    {
     "name": "stdout",
     "output_type": "stream",
     "text": [
      "{'nc':           date state  positive  probableCases negative  pending  \\\n",
      "0   2021-03-07    NC    872176       112559.0     None      NaN   \n",
      "1   2021-03-06    NC    872176       112559.0     None      NaN   \n",
      "2   2021-03-05    NC    870149       112034.0     None      NaN   \n",
      "3   2021-03-04    NC    868056       111547.0     None      NaN   \n",
      "4   2021-03-03    NC    865554       110944.0     None      NaN   \n",
      "..         ...   ...       ...            ...      ...      ...   \n",
      "364 2020-03-08    NC         2            NaN     None      NaN   \n",
      "365 2020-03-07    NC         2            NaN     None      NaN   \n",
      "366 2020-03-06    NC         2            NaN     None      NaN   \n",
      "367 2020-03-05    NC         1            NaN     None      NaN   \n",
      "368 2020-03-04    NC         1            NaN     None      NaN   \n",
      "\n",
      "    totalTestResultsSource  totalTestResults  hospitalizedCurrently  \\\n",
      "0          totalTestsViral         9688838.0                 1179.0   \n",
      "1          totalTestsViral         9688838.0                 1179.0   \n",
      "2          totalTestsViral         9650184.0                 1226.0   \n",
      "3          totalTestsViral         9605697.0                 1290.0   \n",
      "4          totalTestsViral         9561647.0                 1303.0   \n",
      "..                     ...               ...                    ...   \n",
      "364        totalTestsViral               NaN                    NaN   \n",
      "365        totalTestsViral               NaN                    NaN   \n",
      "366        totalTestsViral               NaN                    NaN   \n",
      "367        totalTestsViral               NaN                    NaN   \n",
      "368        totalTestsViral               NaN                    NaN   \n",
      "\n",
      "    hospitalizedCumulative  ...  dataQualityGrade deathIncrease  \\\n",
      "0                     None  ...              None             0   \n",
      "1                     None  ...              None            56   \n",
      "2                     None  ...              None            47   \n",
      "3                     None  ...              None            36   \n",
      "4                     None  ...              None            75   \n",
      "..                     ...  ...               ...           ...   \n",
      "364                   None  ...              None             0   \n",
      "365                   None  ...              None             0   \n",
      "366                   None  ...              None             0   \n",
      "367                   None  ...              None             0   \n",
      "368                   None  ...              None             0   \n",
      "\n",
      "    hospitalizedIncrease                                      hash  \\\n",
      "0                      0  d9ca67dd72ba6f8a8506ebb734fd25b0b8067608   \n",
      "1                      0  83cf01f626a4f35bd6237b6d93e3f6f424c885af   \n",
      "2                      0  b157a3fac47530dbec303f1abb8811fdf809b2c0   \n",
      "3                      0  b0e0b0510f722eb05aa86e35d1a4b736d9b2f80b   \n",
      "4                      0  ed7883b95bc3197feaa256f83f1cd4090f854fcf   \n",
      "..                   ...                                       ...   \n",
      "364                    0  131b4ff788de1965e243d9819c78eec86f6890dc   \n",
      "365                    0  20b5b740bb015250292df77cf189ead80de16bc4   \n",
      "366                    0  a2d6aa96ae87ae004fc5ecd60959023073bb5de6   \n",
      "367                    0  98454f8d9816a213f296f25f44f70d808761b3a9   \n",
      "368                    0  e72208f5f35e2e6f7620478e8bead7608280f496   \n",
      "\n",
      "    commercialScore negativeRegularScore negativeScore positiveScore  score  \\\n",
      "0                 0                    0             0             0      0   \n",
      "1                 0                    0             0             0      0   \n",
      "2                 0                    0             0             0      0   \n",
      "3                 0                    0             0             0      0   \n",
      "4                 0                    0             0             0      0   \n",
      "..              ...                  ...           ...           ...    ...   \n",
      "364               0                    0             0             0      0   \n",
      "365               0                    0             0             0      0   \n",
      "366               0                    0             0             0      0   \n",
      "367               0                    0             0             0      0   \n",
      "368               0                    0             0             0      0   \n",
      "\n",
      "    grade  \n",
      "0          \n",
      "1          \n",
      "2          \n",
      "3          \n",
      "4          \n",
      "..    ...  \n",
      "364        \n",
      "365        \n",
      "366        \n",
      "367        \n",
      "368        \n",
      "\n",
      "[369 rows x 56 columns], 'ny':           date state  positive probableCases negative  pending  \\\n",
      "0   2021-03-07    NY   1681169          None     None      NaN   \n",
      "1   2021-03-06    NY   1674380          None     None      NaN   \n",
      "2   2021-03-05    NY   1666733          None     None      NaN   \n",
      "3   2021-03-04    NY   1657777          None     None      NaN   \n",
      "4   2021-03-03    NY   1650184          None     None      NaN   \n",
      "..         ...   ...       ...           ...      ...      ...   \n",
      "366 2020-03-06    NY        25          None     None    236.0   \n",
      "367 2020-03-05    NY         3          None     None     24.0   \n",
      "368 2020-03-04    NY         1          None     None     24.0   \n",
      "369 2020-03-03    NY         1          None     None      NaN   \n",
      "370 2020-03-02    NY         0          None     None      NaN   \n",
      "\n",
      "       totalTestResultsSource  totalTestResults  hospitalizedCurrently  \\\n",
      "0    totalTestEncountersViral          39695100                 4789.0   \n",
      "1    totalTestEncountersViral          39467332                 4954.0   \n",
      "2    totalTestEncountersViral          39194200                 5034.0   \n",
      "3    totalTestEncountersViral          38897265                 5177.0   \n",
      "4    totalTestEncountersViral          38627176                 5323.0   \n",
      "..                        ...               ...                    ...   \n",
      "366  totalTestEncountersViral               122                    NaN   \n",
      "367  totalTestEncountersViral                30                    NaN   \n",
      "368  totalTestEncountersViral                10                    NaN   \n",
      "369  totalTestEncountersViral                 1                    NaN   \n",
      "370  totalTestEncountersViral                 0                    NaN   \n",
      "\n",
      "    hospitalizedCumulative  ...  dataQualityGrade deathIncrease  \\\n",
      "0                     None  ...              None            59   \n",
      "1                     None  ...              None            79   \n",
      "2                     None  ...              None            95   \n",
      "3                     None  ...              None            61   \n",
      "4                     None  ...              None            75   \n",
      "..                     ...  ...               ...           ...   \n",
      "366                   None  ...              None             0   \n",
      "367                   None  ...              None             0   \n",
      "368                   None  ...              None             0   \n",
      "369                   None  ...              None             0   \n",
      "370                   None  ...              None             0   \n",
      "\n",
      "     hospitalizedIncrease                                      hash  \\\n",
      "0                       0  8b1ad6376deb03844d4e5e3f615197da1b3a214e   \n",
      "1                       0  c7ae8ab7600d0db452429e5692968b185e90d1de   \n",
      "2                       0  99bf166f33908a152c9badb3464d1899821323a5   \n",
      "3                       0  39d0cec8753202639bdd32abdd228cc6c891d862   \n",
      "4                       0  91cc3a4e0e57073b8997de61de8a6e385cf66599   \n",
      "..                    ...                                       ...   \n",
      "366                     0  9e99ccc04e6d33397cc412ee1b0fbecddbaeecd8   \n",
      "367                     0  04e82e80db72556a73999ead493c993e90b8969e   \n",
      "368                     0  3feb3bdb879194f81d11c8bbf994d8e3ea2a5252   \n",
      "369                     0  9e3daed71a696c0c3fa30150ee6423a0a94de8f5   \n",
      "370                     0  b348e3592c0b30cb944b37ddbc88044ceeeadfc9   \n",
      "\n",
      "    commercialScore negativeRegularScore negativeScore positiveScore  score  \\\n",
      "0                 0                    0             0             0      0   \n",
      "1                 0                    0             0             0      0   \n",
      "2                 0                    0             0             0      0   \n",
      "3                 0                    0             0             0      0   \n",
      "4                 0                    0             0             0      0   \n",
      "..              ...                  ...           ...           ...    ...   \n",
      "366               0                    0             0             0      0   \n",
      "367               0                    0             0             0      0   \n",
      "368               0                    0             0             0      0   \n",
      "369               0                    0             0             0      0   \n",
      "370               0                    0             0             0      0   \n",
      "\n",
      "    grade  \n",
      "0          \n",
      "1          \n",
      "2          \n",
      "3          \n",
      "4          \n",
      "..    ...  \n",
      "366        \n",
      "367        \n",
      "368        \n",
      "369        \n",
      "370        \n",
      "\n",
      "[371 rows x 56 columns], 'ca':           date state  positive probableCases  negative  pending  \\\n",
      "0   2021-03-07    CA   3501394          None       NaN      NaN   \n",
      "1   2021-03-06    CA   3497578          None       NaN      NaN   \n",
      "2   2021-03-05    CA   3493126          None       NaN      NaN   \n",
      "3   2021-03-04    CA   3488467          None       NaN      NaN   \n",
      "4   2021-03-03    CA   3484963          None       NaN      NaN   \n",
      "..         ...   ...       ...           ...       ...      ...   \n",
      "364 2020-03-08    CA        88          None     462.0      NaN   \n",
      "365 2020-03-07    CA        69          None     462.0      NaN   \n",
      "366 2020-03-06    CA        60          None     462.0      NaN   \n",
      "367 2020-03-05    CA        53          None     462.0      NaN   \n",
      "368 2020-03-04    CA        53          None     462.0      NaN   \n",
      "\n",
      "    totalTestResultsSource  totalTestResults  hospitalizedCurrently  \\\n",
      "0          totalTestsViral          49646014                 4291.0   \n",
      "1          totalTestsViral          49512828                 4513.0   \n",
      "2          totalTestsViral          49294503                 4714.0   \n",
      "3          totalTestsViral          49147685                 4967.0   \n",
      "4          totalTestsViral          49028048                 5110.0   \n",
      "..                     ...               ...                    ...   \n",
      "364        totalTestsViral               550                    NaN   \n",
      "365        totalTestsViral               531                    NaN   \n",
      "366        totalTestsViral               522                    NaN   \n",
      "367        totalTestsViral               515                    NaN   \n",
      "368        totalTestsViral               515                    NaN   \n",
      "\n",
      "    hospitalizedCumulative  ...  dataQualityGrade deathIncrease  \\\n",
      "0                     None  ...              None           258   \n",
      "1                     None  ...              None           418   \n",
      "2                     None  ...              None           400   \n",
      "3                     None  ...              None           273   \n",
      "4                     None  ...              None           278   \n",
      "..                     ...  ...               ...           ...   \n",
      "364                   None  ...              None             0   \n",
      "365                   None  ...              None             0   \n",
      "366                   None  ...              None             0   \n",
      "367                   None  ...              None             0   \n",
      "368                   None  ...              None             0   \n",
      "\n",
      "    hospitalizedIncrease                                      hash  \\\n",
      "0                      0  63c5c0fd2daef2fb65150e9db486de98ed3f7b72   \n",
      "1                      0  54b454d1890500b58f2f6b964b37bc373242b0dc   \n",
      "2                      0  255ceaacd8aef4c38fd655917cba2f7806784c0a   \n",
      "3                      0  cc0edfeae13c59b87ec961d01dac49137a894da9   \n",
      "4                      0  7a6abcae85445835536365a8f820794cf8f4359f   \n",
      "..                   ...                                       ...   \n",
      "364                    0  32c01c9818d9d58889168f661d1b2ec4a9336a98   \n",
      "365                    0  1f70bcab9c5370a1b81ffac6daaf374a941caac5   \n",
      "366                    0  b467e72f47b966bc063738972f6c2e31051919db   \n",
      "367                    0  f5e787e564f7a4076d147f14c84f77d4312da17a   \n",
      "368                    0  41904137a1c45bac0dc5ce126945ed92c92bbde5   \n",
      "\n",
      "    commercialScore negativeRegularScore negativeScore positiveScore  score  \\\n",
      "0                 0                    0             0             0      0   \n",
      "1                 0                    0             0             0      0   \n",
      "2                 0                    0             0             0      0   \n",
      "3                 0                    0             0             0      0   \n",
      "4                 0                    0             0             0      0   \n",
      "..              ...                  ...           ...           ...    ...   \n",
      "364               0                    0             0             0      0   \n",
      "365               0                    0             0             0      0   \n",
      "366               0                    0             0             0      0   \n",
      "367               0                    0             0             0      0   \n",
      "368               0                    0             0             0      0   \n",
      "\n",
      "    grade  \n",
      "0          \n",
      "1          \n",
      "2          \n",
      "3          \n",
      "4          \n",
      "..    ...  \n",
      "364        \n",
      "365        \n",
      "366        \n",
      "367        \n",
      "368        \n",
      "\n",
      "[369 rows x 56 columns]}\n"
     ]
    },
    {
     "data": {
      "text/plain": [
       "<Figure size 468x324 with 0 Axes>"
      ]
     },
     "metadata": {},
     "output_type": "display_data"
    },
    {
     "data": {
      "text/plain": [
       "<Figure size 468x324 with 0 Axes>"
      ]
     },
     "metadata": {},
     "output_type": "display_data"
    },
    {
     "data": {
      "text/plain": [
       "<Figure size 468x324 with 0 Axes>"
      ]
     },
     "metadata": {},
     "output_type": "display_data"
    }
   ],
   "source": [
    "# Test function and display charts\n",
    "states = ['nc','ny','ca']\n",
    "data = generate_plots(states)\n",
    "print(data)\n",
    "\n",
    "assert type(data) == dict\n",
    "assert len(data.keys()) == len(states)\n",
    "for state in states:\n",
    "    assert state in data.keys()\n",
    "assert type(data['nc']) == pd.DataFrame"
   ]
  }
 ],
 "metadata": {
  "jupytext": {
   "formats": "ipynb,py:light"
  },
  "kernelspec": {
   "display_name": "Python 3.9.12 ('base')",
   "language": "python",
   "name": "python3"
  },
  "language_info": {
   "codemirror_mode": {
    "name": "ipython",
    "version": 3
   },
   "file_extension": ".py",
   "mimetype": "text/x-python",
   "name": "python",
   "nbconvert_exporter": "python",
   "pygments_lexer": "ipython3",
   "version": "3.9.12"
  },
  "vscode": {
   "interpreter": {
    "hash": "cf6d1caee5e13aa4bdb1500d81dd78efea177e564365101185610b77a45ad0b2"
   }
  }
 },
 "nbformat": 4,
 "nbformat_minor": 4
}
