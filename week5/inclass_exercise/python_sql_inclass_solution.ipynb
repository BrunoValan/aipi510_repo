{
 "cells": [
  {
   "cell_type": "markdown",
   "metadata": {},
   "source": [
    "<a href='https://ai.meng.duke.edu'> = <img align=\"left\" style=\"padding-top:10px;\" src=https://storage.googleapis.com/aipi_datasets/Duke-AIPI-Logo.png>"
   ]
  },
  {
   "cell_type": "markdown",
   "metadata": {},
   "source": [
    "# SQLite In-Class Exercise"
   ]
  },
  {
   "cell_type": "code",
   "execution_count": 1,
   "metadata": {},
   "outputs": [],
   "source": [
    "import sqlite3 as db\n",
    "import pandas as pd\n",
    "import numpy as np"
   ]
  },
  {
   "cell_type": "code",
   "execution_count": 2,
   "metadata": {},
   "outputs": [
    {
     "name": "stdout",
     "output_type": "stream",
     "text": [
      "Your results: 13 \n",
      "The entries of Classes: [(121, 'AIPI 510', 3.7), (121, 'AIPI 520', 4.0), (121, 'AIPI 530', 3.3), (225, 'AIPI 510', 4.0), (225, 'AIPI 520', 3.3), (767, 'MENG 570', 3.0), (767, 'AIPI 510', 4.0), (988, 'MENG 570', 4.0), (988, 'AIPI 510', 3.7), (734, 'AIPI 510', 4.0), (734, 'AIPI 520', 4.0), (878, 'AIPI 510', 3.0), (878, 'AIPI 520', 4.0)]\n"
     ]
    }
   ],
   "source": [
    "# Connect to a database (or create one if it doesn't exist)\n",
    "conn = db.connect('example.db')\n",
    "\n",
    "# Create a 'cursor' for executing commands\n",
    "c = conn.cursor()\n",
    "\n",
    "# First check if the table already exists and if so we will delete it\n",
    "c.execute(\"DROP TABLE IF EXISTS Students\")\n",
    "\n",
    "# Create a table named \"Students\" with 3 columns: \"duke_id\" (string), \"name\" (string), \"grad_year\" (integer).\n",
    "c.execute(\"CREATE TABLE Students (duke_id INTEGER PRIMARY KEY, name TEXT, grad_year INTEGER)\")\n",
    "\n",
    "# Commands to add data to our table\n",
    "c.execute(\"INSERT INTO Students VALUES ('121', 'Reifschneider', 2025)\")\n",
    "c.execute(\"INSERT INTO Students VALUES ('225', 'Egger', 2023)\")\n",
    "c.execute(\"INSERT INTO Students VALUES ('767', 'Lin', 2022)\")\n",
    "c.execute(\"INSERT INTO Students VALUES ('988', 'Saha', 2022)\")\n",
    "\n",
    "# Commit the changes (make them permanent in the datbase)\n",
    "conn.commit()\n",
    "\n",
    "# List of items to add\n",
    "more_students = [('734', 'Fox', 2025),\n",
    "                 ('878', 'Lenz', 2023),\n",
    "                 ('267', 'Glass', 2023)]\n",
    "\n",
    "# '?' question marks are placeholders for the columns in Students table\n",
    "c.executemany('INSERT INTO Students VALUES (?, ?, ?)', more_students)\n",
    "conn.commit()\n",
    "\n",
    "# Create Classes table\n",
    "c.execute('DROP TABLE IF EXISTS Classes')\n",
    "c.execute('CREATE TABLE Classes (duke_id INTEGER, course TEXT, grade REAL, PRIMARY KEY(\"duke_id\",\"course\"))')\n",
    "\n",
    "students = [('121','AIPI 510',3.7),\n",
    "            ('121','AIPI 520',4.0),\n",
    "            ('121','AIPI 530',3.3),\n",
    "            ('225','AIPI 510',4.0),\n",
    "            ('225','AIPI 520',3.3),\n",
    "            ('767','MENG 570',3.0),\n",
    "            ('767','AIPI 510',4.0),\n",
    "            ('988','MENG 570',4.0),\n",
    "            ('988','AIPI 510',3.7),\n",
    "            ('734','AIPI 510',4.0),\n",
    "            ('734','AIPI 520',4.0),\n",
    "            ('878','AIPI 510',3.0),\n",
    "            ('878','AIPI 520',4.0)]\n",
    "\n",
    "c.executemany('INSERT INTO Classes VALUES (?,?,?)',students)\n",
    "conn.commit()\n",
    "\n",
    "# Displays the results of your code\n",
    "c.execute('SELECT * FROM Classes')\n",
    "results = c.fetchall()\n",
    "print(\"Your results:\", len(results), \"\\nThe entries of Classes:\", results)\n",
    "\n",
    "# Create dataframe of students' major\n",
    "majors_dict={'duke_id':['225','734','767','878','121','267'],\n",
    "             'major':['Biology','Finance','CS','AI','CS','Biology']}\n",
    "majors = pd.DataFrame(majors_dict)\n",
    "\n",
    "# Create table Majors from dataframe in example.db\n",
    "conn = db.connect('example.db')\n",
    "c = conn.cursor()\n",
    "c.execute(\"DROP TABLE IF EXISTS Majors\")\n",
    "majors.to_sql(name='Majors',con=conn,index=False)"
   ]
  },
  {
   "cell_type": "markdown",
   "metadata": {},
   "source": [
    "## Practice problems\n",
    "### Question 1\n",
    "Complete the below function to calculate the average GPA for students from each major.  The function should return a list of tuples containing the major and corresponding average gpa"
   ]
  },
  {
   "cell_type": "code",
   "execution_count": 3,
   "metadata": {},
   "outputs": [],
   "source": [
    "def avg_gpa_by_major(db_name):  \n",
    "    '''\n",
    "    Calculates the average GPA for students from each major\n",
    "\n",
    "    Inputs:\n",
    "        db_name(str): name of the database\n",
    "\n",
    "    Returns:\n",
    "        results(list): list of tuples each containing the major (str) and the average GPA (float)\n",
    "    '''\n",
    "    ### BEGIN SOLUTION ###\n",
    "    conn = db.connect('example.db')\n",
    "    c = conn.cursor()\n",
    "    query = '''\n",
    "            SELECT Majors.major, AVG(Classes.grade) \n",
    "            FROM Majors \n",
    "            INNER JOIN Classes ON Majors.duke_id = Classes.duke_id\n",
    "            GROUP BY Majors.major\n",
    "            '''\n",
    "    c.execute(query)\n",
    "    results = c.fetchall()\n",
    "    c.close()\n",
    "    conn.close()\n",
    "    return results\n",
    "    ### END SOLUTION ###"
   ]
  },
  {
   "cell_type": "code",
   "execution_count": 4,
   "metadata": {},
   "outputs": [
    {
     "data": {
      "text/plain": [
       "[('AI', 3.5), ('Biology', 3.65), ('CS', 3.6), ('Finance', 4.0)]"
      ]
     },
     "execution_count": 4,
     "metadata": {},
     "output_type": "execute_result"
    }
   ],
   "source": [
    "# Run function\n",
    "gpas = avg_gpa_by_major('example.db')\n",
    "assert len(gpas) == 4\n",
    "assert len(gpas[0]) == 2\n",
    "gpas"
   ]
  },
  {
   "cell_type": "markdown",
   "metadata": {},
   "source": [
    "### Question 2\n",
    "Complete the function below which returns a **pandas dataframe** containing the Duke ID (as the index), name, graduation year, major (or None if not declared), and GPA of all students who have taken classes."
   ]
  },
  {
   "cell_type": "code",
   "execution_count": 20,
   "metadata": {},
   "outputs": [],
   "source": [
    "def all_students(db_name):\n",
    "    '''\n",
    "    Queries database to create a dataframe containing name, graduation, major and GPA of all students who have taken 1+ classes\n",
    "\n",
    "    Inputs:\n",
    "        db_name(str): name of database\n",
    "\n",
    "    Returns:\n",
    "        df(DataFrame): dataframe containing student names as index and their graduation year, major and GPA as columns\n",
    "    '''\n",
    "    ### BEGIN SOLUTION ###\n",
    "    # Connect to database\n",
    "    conn = db.connect('example.db')\n",
    "\n",
    "    # Create a summary table of all students and their name, graduation year, major, GPA\n",
    "    query = '''\n",
    "            SELECT Students.duke_id, Students.name, Students.grad_year, Majors.major, AVG(Classes.grade) AS gpa\n",
    "            FROM Students \n",
    "            INNER JOIN Classes ON Students.duke_id = Classes.duke_id\n",
    "            LEFT JOIN Majors ON Students.duke_id = Majors.duke_id\n",
    "            GROUP BY Students.duke_id\n",
    "            '''\n",
    "    # Create dataframe from SQL query\n",
    "    df = pd.read_sql_query (query, conn)\n",
    "    df.set_index(keys=['duke_id'],inplace=True)\n",
    "    \n",
    "    conn.close()\n",
    "    return df\n",
    "    ### END SOLUTION ###"
   ]
  },
  {
   "cell_type": "code",
   "execution_count": 21,
   "metadata": {},
   "outputs": [
    {
     "data": {
      "text/html": [
       "<div>\n",
       "<style scoped>\n",
       "    .dataframe tbody tr th:only-of-type {\n",
       "        vertical-align: middle;\n",
       "    }\n",
       "\n",
       "    .dataframe tbody tr th {\n",
       "        vertical-align: top;\n",
       "    }\n",
       "\n",
       "    .dataframe thead th {\n",
       "        text-align: right;\n",
       "    }\n",
       "</style>\n",
       "<table border=\"1\" class=\"dataframe\">\n",
       "  <thead>\n",
       "    <tr style=\"text-align: right;\">\n",
       "      <th></th>\n",
       "      <th>name</th>\n",
       "      <th>grad_year</th>\n",
       "      <th>major</th>\n",
       "      <th>gpa</th>\n",
       "    </tr>\n",
       "    <tr>\n",
       "      <th>duke_id</th>\n",
       "      <th></th>\n",
       "      <th></th>\n",
       "      <th></th>\n",
       "      <th></th>\n",
       "    </tr>\n",
       "  </thead>\n",
       "  <tbody>\n",
       "    <tr>\n",
       "      <th>121</th>\n",
       "      <td>Reifschneider</td>\n",
       "      <td>2025</td>\n",
       "      <td>CS</td>\n",
       "      <td>3.666667</td>\n",
       "    </tr>\n",
       "    <tr>\n",
       "      <th>225</th>\n",
       "      <td>Egger</td>\n",
       "      <td>2023</td>\n",
       "      <td>Biology</td>\n",
       "      <td>3.650000</td>\n",
       "    </tr>\n",
       "    <tr>\n",
       "      <th>734</th>\n",
       "      <td>Fox</td>\n",
       "      <td>2025</td>\n",
       "      <td>Finance</td>\n",
       "      <td>4.000000</td>\n",
       "    </tr>\n",
       "    <tr>\n",
       "      <th>767</th>\n",
       "      <td>Lin</td>\n",
       "      <td>2022</td>\n",
       "      <td>CS</td>\n",
       "      <td>3.500000</td>\n",
       "    </tr>\n",
       "    <tr>\n",
       "      <th>878</th>\n",
       "      <td>Lenz</td>\n",
       "      <td>2023</td>\n",
       "      <td>AI</td>\n",
       "      <td>3.500000</td>\n",
       "    </tr>\n",
       "    <tr>\n",
       "      <th>988</th>\n",
       "      <td>Saha</td>\n",
       "      <td>2022</td>\n",
       "      <td>None</td>\n",
       "      <td>3.850000</td>\n",
       "    </tr>\n",
       "  </tbody>\n",
       "</table>\n",
       "</div>"
      ],
      "text/plain": [
       "                  name  grad_year    major       gpa\n",
       "duke_id                                             \n",
       "121      Reifschneider       2025       CS  3.666667\n",
       "225              Egger       2023  Biology  3.650000\n",
       "734                Fox       2025  Finance  4.000000\n",
       "767                Lin       2022       CS  3.500000\n",
       "878               Lenz       2023       AI  3.500000\n",
       "988               Saha       2022     None  3.850000"
      ]
     },
     "execution_count": 21,
     "metadata": {},
     "output_type": "execute_result"
    }
   ],
   "source": [
    "# Run function\n",
    "students_table = all_students('example.db')\n",
    "assert students_table.shape == (6,4)\n",
    "students_table"
   ]
  },
  {
   "cell_type": "markdown",
   "metadata": {},
   "source": [
    "### Question 3\n",
    "Complete the below function to create a pandas dataframe where the index values are the courses, the columns are the majors, and the cells show the number of students from each major in each course.  Your output should look like this:  \n",
    "<img align=\"left\" style=\"padding-top:10px;\" src=Q3.png>"
   ]
  },
  {
   "cell_type": "code",
   "execution_count": 22,
   "metadata": {},
   "outputs": [],
   "source": [
    "def majors_per_course(db_name):  \n",
    "    '''\n",
    "    Query the database to build a dataframe containing the number of students from each major in each course\n",
    "\n",
    "    Inputs:\n",
    "        db_name(str): name of the database\n",
    "\n",
    "    Returns:\n",
    "        df(DataFrame): dataframe with courses as index values and majors as the columns which contains the count of each major in each course\n",
    "    '''\n",
    "    ### BEGIN SOLUTION ###\n",
    "    conn = db.connect('example.db')\n",
    "    query = '''\n",
    "            SELECT Classes.course, Majors.major, COUNT(*) AS count\n",
    "            FROM Classes INNER JOIN Majors ON Classes.duke_id = Majors.duke_id\n",
    "            GROUP BY Classes.course, Majors.major\n",
    "            '''\n",
    "    df = pd.read_sql_query (query, conn)\n",
    "    conn.close()\n",
    "    df =df.pivot(index='course',columns='major',values='count')\n",
    "    df = df.fillna(0).astype(int)\n",
    "    return df\n",
    "    ### END SOLUTION ###"
   ]
  },
  {
   "cell_type": "code",
   "execution_count": 23,
   "metadata": {},
   "outputs": [
    {
     "data": {
      "text/html": [
       "<div>\n",
       "<style scoped>\n",
       "    .dataframe tbody tr th:only-of-type {\n",
       "        vertical-align: middle;\n",
       "    }\n",
       "\n",
       "    .dataframe tbody tr th {\n",
       "        vertical-align: top;\n",
       "    }\n",
       "\n",
       "    .dataframe thead th {\n",
       "        text-align: right;\n",
       "    }\n",
       "</style>\n",
       "<table border=\"1\" class=\"dataframe\">\n",
       "  <thead>\n",
       "    <tr style=\"text-align: right;\">\n",
       "      <th>major</th>\n",
       "      <th>AI</th>\n",
       "      <th>Biology</th>\n",
       "      <th>CS</th>\n",
       "      <th>Finance</th>\n",
       "    </tr>\n",
       "    <tr>\n",
       "      <th>course</th>\n",
       "      <th></th>\n",
       "      <th></th>\n",
       "      <th></th>\n",
       "      <th></th>\n",
       "    </tr>\n",
       "  </thead>\n",
       "  <tbody>\n",
       "    <tr>\n",
       "      <th>AIPI 510</th>\n",
       "      <td>1</td>\n",
       "      <td>1</td>\n",
       "      <td>2</td>\n",
       "      <td>1</td>\n",
       "    </tr>\n",
       "    <tr>\n",
       "      <th>AIPI 520</th>\n",
       "      <td>1</td>\n",
       "      <td>1</td>\n",
       "      <td>1</td>\n",
       "      <td>1</td>\n",
       "    </tr>\n",
       "    <tr>\n",
       "      <th>AIPI 530</th>\n",
       "      <td>0</td>\n",
       "      <td>0</td>\n",
       "      <td>1</td>\n",
       "      <td>0</td>\n",
       "    </tr>\n",
       "    <tr>\n",
       "      <th>MENG 570</th>\n",
       "      <td>0</td>\n",
       "      <td>0</td>\n",
       "      <td>1</td>\n",
       "      <td>0</td>\n",
       "    </tr>\n",
       "  </tbody>\n",
       "</table>\n",
       "</div>"
      ],
      "text/plain": [
       "major     AI  Biology  CS  Finance\n",
       "course                            \n",
       "AIPI 510   1        1   2        1\n",
       "AIPI 520   1        1   1        1\n",
       "AIPI 530   0        0   1        0\n",
       "MENG 570   0        0   1        0"
      ]
     },
     "metadata": {},
     "output_type": "display_data"
    }
   ],
   "source": [
    "table = majors_per_course('example.db')\n",
    "display(table)\n",
    "assert table.shape == (4,4)"
   ]
  }
 ],
 "metadata": {
  "kernelspec": {
   "display_name": "Python 3.10.5 64-bit",
   "language": "python",
   "name": "python3"
  },
  "language_info": {
   "codemirror_mode": {
    "name": "ipython",
    "version": 3
   },
   "file_extension": ".py",
   "mimetype": "text/x-python",
   "name": "python",
   "nbconvert_exporter": "python",
   "pygments_lexer": "ipython3",
   "version": "3.10.5"
  },
  "vscode": {
   "interpreter": {
    "hash": "aee8b7b246df8f9039afb4144a1f6fd8d2ca17a180786b69acc140d282b71a49"
   }
  }
 },
 "nbformat": 4,
 "nbformat_minor": 4
}
