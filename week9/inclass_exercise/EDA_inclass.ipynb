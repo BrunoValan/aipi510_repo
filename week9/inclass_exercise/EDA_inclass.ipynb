{
 "cells": [
  {
   "cell_type": "markdown",
   "metadata": {},
   "source": [
    "# Visual & Statistical Analysis In-class Exercise"
   ]
  },
  {
   "cell_type": "code",
   "execution_count": 2,
   "metadata": {},
   "outputs": [],
   "source": [
    "import numpy as np\n",
    "import pandas as pd\n",
    "import matplotlib.pyplot as plt\n",
    "import seaborn as sns\n",
    "from scipy.stats import pearsonr\n",
    "from sklearn.linear_model import LinearRegression\n",
    "import statsmodels.api as sm\n",
    "from statsmodels.formula.api import ols\n",
    "from scipy.stats import ttest_ind\n",
    "\n",
    "import warnings\n",
    "warnings.filterwarnings(\"ignore\")"
   ]
  },
  {
   "cell_type": "markdown",
   "metadata": {},
   "source": [
    "The file n90pol.csv contains information on 90 university students who participated in a psychological experiment designed to look for relationships between the size of different regions of the brain and political views. The variables amygdala and acc indicate the volume of two particular brain regions known to be involved in emotions and decision-making, the amygdala and the anterior cingulate cortex; more exactly, these are residuals from the predicted volume, after adjusting for height, sex, and similar body-type variables. The variable orientation gives the students' political orientation on a five-point scale from 1 (very conservative) to 5 (very liberal)."
   ]
  },
  {
   "cell_type": "code",
   "execution_count": 26,
   "metadata": {},
   "outputs": [],
   "source": [
    "# Run this before any other code cell\n",
    "# This downloads the csv data files into the same directory where you have saved this notebook\n",
    "\n",
    "import urllib.request\n",
    "from pathlib import Path\n",
    "import os\n",
    "path = Path()\n",
    "\n",
    "# Dictionary of file names and download links\n",
    "files = {'n90pol.csv':'https://storage.googleapis.com/aipi_datasets/n90pol.csv'}\n",
    "\n",
    "# Download each file\n",
    "for key,value in files.items():\n",
    "    filename = path/key\n",
    "    url = value\n",
    "    # If the file does not already exist in the directory, download it\n",
    "    if not os.path.exists(filename):\n",
    "        urllib.request.urlretrieve(url,filename)"
   ]
  },
  {
   "cell_type": "code",
   "execution_count": 28,
   "metadata": {},
   "outputs": [
    {
     "data": {
      "text/html": [
       "<div>\n",
       "<style scoped>\n",
       "    .dataframe tbody tr th:only-of-type {\n",
       "        vertical-align: middle;\n",
       "    }\n",
       "\n",
       "    .dataframe tbody tr th {\n",
       "        vertical-align: top;\n",
       "    }\n",
       "\n",
       "    .dataframe thead th {\n",
       "        text-align: right;\n",
       "    }\n",
       "</style>\n",
       "<table border=\"1\" class=\"dataframe\">\n",
       "  <thead>\n",
       "    <tr style=\"text-align: right;\">\n",
       "      <th></th>\n",
       "      <th>amygdala</th>\n",
       "      <th>acc</th>\n",
       "      <th>orientation</th>\n",
       "    </tr>\n",
       "  </thead>\n",
       "  <tbody>\n",
       "    <tr>\n",
       "      <th>0</th>\n",
       "      <td>0.0051</td>\n",
       "      <td>-0.0286</td>\n",
       "      <td>2</td>\n",
       "    </tr>\n",
       "    <tr>\n",
       "      <th>1</th>\n",
       "      <td>-0.0674</td>\n",
       "      <td>0.0007</td>\n",
       "      <td>3</td>\n",
       "    </tr>\n",
       "    <tr>\n",
       "      <th>2</th>\n",
       "      <td>-0.0257</td>\n",
       "      <td>-0.0110</td>\n",
       "      <td>3</td>\n",
       "    </tr>\n",
       "    <tr>\n",
       "      <th>3</th>\n",
       "      <td>0.0504</td>\n",
       "      <td>-0.0167</td>\n",
       "      <td>2</td>\n",
       "    </tr>\n",
       "    <tr>\n",
       "      <th>4</th>\n",
       "      <td>0.0125</td>\n",
       "      <td>-0.0005</td>\n",
       "      <td>5</td>\n",
       "    </tr>\n",
       "  </tbody>\n",
       "</table>\n",
       "</div>"
      ],
      "text/plain": [
       "   amygdala     acc  orientation\n",
       "0    0.0051 -0.0286            2\n",
       "1   -0.0674  0.0007            3\n",
       "2   -0.0257 -0.0110            3\n",
       "3    0.0504 -0.0167            2\n",
       "4    0.0125 -0.0005            5"
      ]
     },
     "execution_count": 28,
     "metadata": {},
     "output_type": "execute_result"
    }
   ],
   "source": [
    "student_data = pd.read_csv('n90pol.csv')\n",
    "student_data.head()\n"
   ]
  },
  {
   "cell_type": "markdown",
   "metadata": {},
   "source": [
    "## Exercise\n",
    "Use visual and statistical methods to determine if there is a difference in amygdala and/or acc size for students of different political orientations.  You should use at least 1 visual and 1 statistical method to support your conclusion."
   ]
  },
  {
   "cell_type": "markdown",
   "metadata": {},
   "source": [
    "### Visual method"
   ]
  },
  {
   "cell_type": "code",
   "execution_count": 6,
   "metadata": {},
   "outputs": [],
   "source": [
    "### BEGIN SOLUTION ###\n",
    "anova_model = ols('acc ~ orientation', data =  student_data).fit()\n",
    "anova_table = sm.stats.anova_lm(anova_model)\n",
    "\n",
    "\n",
    "### END SOLUTION ###"
   ]
  },
  {
   "cell_type": "markdown",
   "metadata": {},
   "source": [
    "### Statistical method(s)"
   ]
  },
  {
   "cell_type": "code",
   "execution_count": 10,
   "metadata": {},
   "outputs": [
    {
     "data": {
      "text/html": [
       "<div>\n",
       "<style scoped>\n",
       "    .dataframe tbody tr th:only-of-type {\n",
       "        vertical-align: middle;\n",
       "    }\n",
       "\n",
       "    .dataframe tbody tr th {\n",
       "        vertical-align: top;\n",
       "    }\n",
       "\n",
       "    .dataframe thead th {\n",
       "        text-align: right;\n",
       "    }\n",
       "</style>\n",
       "<table border=\"1\" class=\"dataframe\">\n",
       "  <thead>\n",
       "    <tr style=\"text-align: right;\">\n",
       "      <th></th>\n",
       "      <th>df</th>\n",
       "      <th>sum_sq</th>\n",
       "      <th>mean_sq</th>\n",
       "      <th>F</th>\n",
       "      <th>PR(&gt;F)</th>\n",
       "    </tr>\n",
       "  </thead>\n",
       "  <tbody>\n",
       "    <tr>\n",
       "      <th>orientation</th>\n",
       "      <td>1.0</td>\n",
       "      <td>0.002708</td>\n",
       "      <td>0.002708</td>\n",
       "      <td>6.91441</td>\n",
       "      <td>0.010091</td>\n",
       "    </tr>\n",
       "    <tr>\n",
       "      <th>Residual</th>\n",
       "      <td>88.0</td>\n",
       "      <td>0.034459</td>\n",
       "      <td>0.000392</td>\n",
       "      <td>NaN</td>\n",
       "      <td>NaN</td>\n",
       "    </tr>\n",
       "  </tbody>\n",
       "</table>\n",
       "</div>"
      ],
      "text/plain": [
       "               df    sum_sq   mean_sq        F    PR(>F)\n",
       "orientation   1.0  0.002708  0.002708  6.91441  0.010091\n",
       "Residual     88.0  0.034459  0.000392      NaN       NaN"
      ]
     },
     "execution_count": 10,
     "metadata": {},
     "output_type": "execute_result"
    }
   ],
   "source": [
    "### BEGIN SOLUTION ###\n",
    "#ANOVA acc \n",
    "#explicitly encode the orientation variable so the model knows that it is catagories \n",
    "anova_model_acc = ols('acc ~ orientation', data =  student_data).fit()\n",
    "anova_table_acc = sm.stats.anova_lm(anova_model_acc)\n",
    "anova_table_acc\n",
    "### END SOLUTION ###"
   ]
  },
  {
   "cell_type": "code",
   "execution_count": 9,
   "metadata": {},
   "outputs": [
    {
     "data": {
      "text/html": [
       "<div>\n",
       "<style scoped>\n",
       "    .dataframe tbody tr th:only-of-type {\n",
       "        vertical-align: middle;\n",
       "    }\n",
       "\n",
       "    .dataframe tbody tr th {\n",
       "        vertical-align: top;\n",
       "    }\n",
       "\n",
       "    .dataframe thead th {\n",
       "        text-align: right;\n",
       "    }\n",
       "</style>\n",
       "<table border=\"1\" class=\"dataframe\">\n",
       "  <thead>\n",
       "    <tr style=\"text-align: right;\">\n",
       "      <th></th>\n",
       "      <th>df</th>\n",
       "      <th>sum_sq</th>\n",
       "      <th>mean_sq</th>\n",
       "      <th>F</th>\n",
       "      <th>PR(&gt;F)</th>\n",
       "    </tr>\n",
       "  </thead>\n",
       "  <tbody>\n",
       "    <tr>\n",
       "      <th>orientation</th>\n",
       "      <td>1.0</td>\n",
       "      <td>0.004642</td>\n",
       "      <td>0.004642</td>\n",
       "      <td>4.540365</td>\n",
       "      <td>0.035894</td>\n",
       "    </tr>\n",
       "    <tr>\n",
       "      <th>Residual</th>\n",
       "      <td>88.0</td>\n",
       "      <td>0.089975</td>\n",
       "      <td>0.001022</td>\n",
       "      <td>NaN</td>\n",
       "      <td>NaN</td>\n",
       "    </tr>\n",
       "  </tbody>\n",
       "</table>\n",
       "</div>"
      ],
      "text/plain": [
       "               df    sum_sq   mean_sq         F    PR(>F)\n",
       "orientation   1.0  0.004642  0.004642  4.540365  0.035894\n",
       "Residual     88.0  0.089975  0.001022       NaN       NaN"
      ]
     },
     "execution_count": 9,
     "metadata": {},
     "output_type": "execute_result"
    }
   ],
   "source": [
    "#ANOVA amygdala \n",
    "anova_model_amygdala = ols('amygdala ~ orientation', data =  student_data).fit()\n",
    "anova_table_amygdala = sm.stats.anova_lm(anova_model_amygdala)\n",
    "anova_table_amygdala \n",
    "\n"
   ]
  },
  {
   "cell_type": "code",
   "execution_count": 20,
   "metadata": {},
   "outputs": [
    {
     "name": "stdout",
     "output_type": "stream",
     "text": [
      "Ttest_indResult(statistic=-2.3644543465009393, pvalue=0.01186683732417668)\n",
      "Ttest_indResult(statistic=-2.6130648099720792, pvalue=0.00585320817663907)\n",
      "Ttest_indResult(statistic=-2.8650700533258613, pvalue=0.00437642751123853)\n",
      "Ttest_indResult(statistic=0.07165009699684684, pvalue=0.5284463258119152)\n",
      "Ttest_indResult(statistic=-0.9030842295908743, pvalue=0.18641760528874474)\n",
      "Ttest_indResult(statistic=-1.0747597195106824, pvalue=0.14377045531910934)\n"
     ]
    }
   ],
   "source": [
    "#acc t test \n",
    "view_pol = [(2,3), (2,4), (2,5), (3,4), (3,5), (4,5)]\n",
    "\n",
    "for i,j in view_pol:\n",
    "    cat1 = student_data[student_data['orientation'] == i]\n",
    "    cat2 = student_data[student_data['orientation'] == j]\n",
    "    print(ttest_ind(cat1['acc'], cat2['acc'], alternative = 'less'))\n",
    "#shows two is less then other groups  "
   ]
  },
  {
   "cell_type": "code",
   "execution_count": 25,
   "metadata": {},
   "outputs": [
    {
     "name": "stdout",
     "output_type": "stream",
     "text": [
      "Ttest_indResult(statistic=1.5139686740380098, pvalue=0.06950643399474973)\n",
      "Ttest_indResult(statistic=2.4473213170889148, pvalue=0.008903213821213686)\n",
      "Ttest_indResult(statistic=2.1343740121364743, pvalue=0.021847191261752552)\n",
      "Ttest_indResult(statistic=0.6226704577680827, pvalue=0.2678742739780984)\n",
      "Ttest_indResult(statistic=0.5170224258104901, pvalue=0.30424388286255305)\n",
      "Ttest_indResult(statistic=0.10011813418583253, pvalue=0.4603215369827341)\n"
     ]
    }
   ],
   "source": [
    "#amygdala test \n",
    "view_pol = [(2,3), (2,4), (2,5), (3,4), (3,5), (4,5)]\n",
    "\n",
    "for i,j in view_pol:\n",
    "    cat1 = student_data[student_data['orientation'] == i]\n",
    "    cat2 = student_data[student_data['orientation'] == j]\n",
    "    print(ttest_ind(cat1['amygdala'], cat2['amygdala'], alternative = 'greater'))\n",
    "#amygdala- 2,3 and 2,4 "
   ]
  },
  {
   "cell_type": "code",
   "execution_count": null,
   "metadata": {},
   "outputs": [],
   "source": []
  }
 ],
 "metadata": {
  "kernelspec": {
   "display_name": "Python 3.9.12 ('base')",
   "language": "python",
   "name": "python3"
  },
  "language_info": {
   "codemirror_mode": {
    "name": "ipython",
    "version": 3
   },
   "file_extension": ".py",
   "mimetype": "text/x-python",
   "name": "python",
   "nbconvert_exporter": "python",
   "pygments_lexer": "ipython3",
   "version": "3.9.12"
  },
  "vscode": {
   "interpreter": {
    "hash": "cf6d1caee5e13aa4bdb1500d81dd78efea177e564365101185610b77a45ad0b2"
   }
  }
 },
 "nbformat": 4,
 "nbformat_minor": 4
}
